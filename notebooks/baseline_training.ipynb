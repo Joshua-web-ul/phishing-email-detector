{
 "cells": [
  {
   "cell_type": "markdown",
   "metadata": {},
   "source": [
    "# Baseline Model Training\n",
    "\n",
    "This notebook is used to train the baseline model for phishing email detection using TF-IDF features and Logistic Regression."
   ]
  },
  {
   "cell_type": "code",
   "execution_count": 1,
   "metadata": {},
   "outputs": [],
   "source": [
    "# Import necessary libraries\n",
    "import pandas as pd\n",
    "from sklearn.model_selection import train_test_split\n",
    "from sklearn.feature_extraction.text import TfidfVectorizer\n",
    "from sklearn.linear_model import LogisticRegression\n",
    "from sklearn.metrics import classification_report, accuracy_score\n",
    "import joblib\n",
    "\n",
    "# Load datasets\n",
    "enron_data = pd.read_csv('../data/enron/enron_emails.csv')  # Adjust path as necessary\n",
    "phishing_data = pd.read_csv('../data/phishing/phishing_emails.csv')  # Adjust path as necessary\n",
    "\n",
    "# Combine datasets\n",
    "enron_data['label'] = 0  # Legitimate emails\n",
    "phishing_data['label'] = 1  # Phishing emails\n",
    "data = pd.concat([enron_data, phishing_data], ignore_index=True)\n",
    "\n",
    "# Data preprocessing\n",
    "data['text'] = data['text'].str.replace(r'http\\S+|www\\S+', '', regex=True)  # Remove URLs\n",
    "data['text'] = data['text'].str.replace(r'[^a-zA-Z\s]', '', regex=True)  # Remove special characters\n",
    "data['text'] = data['text'].str.lower()  # Convert to lowercase\n",
    "\n",
    "# Split the data\n",
    "X = data['text']\n",
    "y = data['label']\n",
    "X_train, X_test, y_train, y_test = train_test_split(X, y, test_size=0.2, random_state=42)\n",
    "\n",
    "# TF-IDF Vectorization\n",
    "vectorizer = TfidfVectorizer(max_features=5000)\n",
    "X_train_tfidf = vectorizer.fit_transform(X_train)\n",
    "X_test_tfidf = vectorizer.transform(X_test)\n",
    "\n",
    "# Logistic Regression Model\n",
    "model = LogisticRegression()\n",
    "model.fit(X_train_tfidf, y_train)\n",
    "\n",
    "# Predictions\n",
    "y_pred = model.predict(X_test_tfidf)\n",
    "\n",
    "# Evaluation\n",
    "print(classification_report(y_test, y_pred))\n",
    "print(f'Accuracy: {accuracy_score(y_test, y_pred)}')\n",
    "\n",
    "# Save the model and vectorizer\n",
    "joblib.dump(model, '../models/baseline_model.pkl')\n",
    "joblib.dump(vectorizer, '../models/tfidf_vectorizer.pkl')"
   ]
  }
 ],
 "metadata": {
  "kernelspec": {
   "display_name": "Python 3",
   "language": "python",
   "name": "python3"
  },
  "language_info": {
   "codemirror_mode": {
    "name": "ipython",
    "version": 3
   },
   "file_extension": ".py",
   "mimetype": "text/x-python",
   "name": "python",
   "nbconvert_exporter": "python",
   "pygments_lexer": "ipython3",
   "version": "3.8.5"
  }
 },
 "nbformat": 4,
 "nbformat_minor": 4
}